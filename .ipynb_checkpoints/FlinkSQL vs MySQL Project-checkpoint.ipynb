{
 "cells": [
  {
   "cell_type": "markdown",
   "id": "678bb5c3",
   "metadata": {},
   "source": [
    "# Streaming Project"
   ]
  },
  {
   "cell_type": "markdown",
   "id": "ff2770f6",
   "metadata": {},
   "source": [
    "Implement the following FlinkSQL query using mysql and python. The goal is emulating FlinkSQL behavior as close as possible.\n",
    "-  you can tune the ingestion rate\n",
    "-  you can implement the window semantics in the where clause or by micro batching\n",
    "-  you can use triggers or any SQL construct that you know\n",
    "-  you can assume that processing time and event time coincide\n",
    "-  you can create as many supporting structure \n",
    "-  DON'T FORGET TO REMOVE OLD DATA (USING ANOTHER THREAD?)"
   ]
  },
  {
   "cell_type": "markdown",
   "id": "fc2bb86b",
   "metadata": {},
   "source": [
    "## FLINK SQL Query"
   ]
  },
  {
   "cell_type": "markdown",
   "id": "7bcf32f9",
   "metadata": {},
   "source": [
    "```sql \n",
    "SELECT\n",
    "  TUMBLE_START(rowTime, INTERVAL '1' MINUTE) AS t,\n",
    "  country\n",
    "  COUNT(*) AS cnt\n",
    "FROM click\n",
    "GROUP BY country,   TUMBLE(rowTime, INTERVAL '1' MINUTE)\n",
    "```"
   ]
  },
  {
   "cell_type": "markdown",
   "id": "58e38739",
   "metadata": {},
   "source": [
    "## Data Ingestion"
   ]
  },
  {
   "cell_type": "code",
   "execution_count": null,
   "id": "63b3581a",
   "metadata": {},
   "outputs": [],
   "source": [
    "! pip install mysql-connector-python "
   ]
  },
  {
   "cell_type": "code",
   "execution_count": 39,
   "id": "014efd8a",
   "metadata": {},
   "outputs": [
    {
     "name": "stdout",
     "output_type": "stream",
     "text": [
      "Collecting confluent_kafka\n",
      "  Downloading confluent_kafka-1.7.0-cp39-cp39-manylinux2010_x86_64.whl (2.7 MB)\n",
      "\u001b[K     |████████████████████████████████| 2.7 MB 1.6 MB/s eta 0:00:01\n",
      "\u001b[?25hInstalling collected packages: confluent-kafka\n",
      "Successfully installed confluent-kafka-1.7.0\n"
     ]
    }
   ],
   "source": [
    "! pip install confluent_kafka"
   ]
  },
  {
   "cell_type": "markdown",
   "id": "9b5ee3d2",
   "metadata": {},
   "source": [
    "## Kafka Producer"
   ]
  },
  {
   "cell_type": "code",
   "execution_count": 49,
   "id": "d81be8d6",
   "metadata": {},
   "outputs": [],
   "source": [
    "from confluent_kafka import Producer\n",
    "import sys, json\n",
    "topic = \"clicks\"\n",
    "brokers = \"kafka1:9092\" # Brokers act as cluster entripoints\n",
    "conf = {'bootstrap.servers': brokers}"
   ]
  },
  {
   "cell_type": "code",
   "execution_count": 41,
   "id": "234b6d95",
   "metadata": {},
   "outputs": [],
   "source": [
    "p = Producer(**conf)"
   ]
  },
  {
   "cell_type": "code",
   "execution_count": 42,
   "id": "db83e02c",
   "metadata": {},
   "outputs": [],
   "source": [
    "def delivery_callback(err, msg):\n",
    "        if err:\n",
    "            sys.stderr.write('%% Message failed delivery: %s\\n' % err)\n",
    "        else:\n",
    "            sys.stderr.write('%% Message delivered to %s [%d] @ %d\\n' %\n",
    "                             (msg.topic(), msg.partition(), msg.offset()))"
   ]
  },
  {
   "cell_type": "code",
   "execution_count": 55,
   "id": "49126e1a",
   "metadata": {},
   "outputs": [],
   "source": [
    "def to_kafka(ms):\n",
    "    for m in ms:\n",
    "        k = {}\n",
    "        k['user']=m[0]\n",
    "        k['country']=m[1]\n",
    "        k['ts']=m[2]\n",
    "        p.produce(topic, json.dumps(k), callback=delivery_callback)\n",
    "        p.poll(0)\n",
    "    p.flush()"
   ]
  },
  {
   "cell_type": "markdown",
   "id": "71675542",
   "metadata": {},
   "source": [
    "## MySQL ingestion"
   ]
  },
  {
   "cell_type": "code",
   "execution_count": null,
   "id": "471fa2a8",
   "metadata": {},
   "outputs": [],
   "source": [
    "import mysql.connector\n",
    "\n",
    "mydb = mysql.connector.connect(\n",
    "  host=\"mysql\",\n",
    "  user=\"root\",\n",
    "  password=\"pass1234\"\n",
    ")\n",
    "\n",
    "\n",
    "mycursor = mydb.cursor()"
   ]
  },
  {
   "cell_type": "code",
   "execution_count": null,
   "id": "fb4530ad",
   "metadata": {},
   "outputs": [],
   "source": [
    "mycursor.execute(\"CREATE DATABASE stream\")"
   ]
  },
  {
   "cell_type": "code",
   "execution_count": null,
   "id": "46c2460e",
   "metadata": {},
   "outputs": [],
   "source": [
    "mycursor.execute(\"SHOW DATABASES\")\n",
    "for x in mycursor:\n",
    "  print(x) "
   ]
  },
  {
   "cell_type": "code",
   "execution_count": null,
   "id": "60297368",
   "metadata": {},
   "outputs": [],
   "source": [
    "mycursor.execute(\"USE stream\")"
   ]
  },
  {
   "cell_type": "code",
   "execution_count": null,
   "id": "2bd0dc7c",
   "metadata": {},
   "outputs": [],
   "source": [
    "mycursor.execute(\"CREATE TABLE clicks (user VARCHAR(255), country VARCHAR(255), timestamp INT)\")\n",
    "for x in mycursor:\n",
    "  print(x) "
   ]
  },
  {
   "cell_type": "code",
   "execution_count": null,
   "id": "e9877828",
   "metadata": {},
   "outputs": [],
   "source": [
    "userNames = [\"Andy\", \"Bob\", \"Carl\", \"Dave\", \"Esther\", \"Fanny\", \"Gabe\", \"Imogen\", \"John\", \"Louis\", \"Monica\"];"
   ]
  },
  {
   "cell_type": "code",
   "execution_count": null,
   "id": "ca9d7242",
   "metadata": {},
   "outputs": [],
   "source": [
    "regionNames = [\"America\", \"Europe\", \"Asia\", \"Australia\", \"Africa\"];"
   ]
  },
  {
   "cell_type": "code",
   "execution_count": 43,
   "id": "1dde81ea",
   "metadata": {},
   "outputs": [],
   "source": [
    "sql = \"INSERT INTO clicks (user, country, timestamp) VALUES (%s, %s, %s)\"\n",
    "def to_my_sql(val):\n",
    "    mycursor.executemany(sql, val)\n",
    "    mydb.commit()"
   ]
  },
  {
   "cell_type": "markdown",
   "id": "b30169c1",
   "metadata": {},
   "source": [
    "## Data Generator\n",
    "The data generator here sends data to mysql and a kafka topic for Flink testing"
   ]
  },
  {
   "cell_type": "code",
   "execution_count": null,
   "id": "b45481a1",
   "metadata": {},
   "outputs": [],
   "source": [
    "import random\n",
    "import sys\n",
    "import time\n",
    "\n",
    "batch_window= 60 # seconds\n",
    "batches_per_window= 1000\n",
    "batch_size = 500\n",
    "\n",
    "while True:\n",
    "    for i in range(0,batches_per_minute):\n",
    "        val = []\n",
    "        for i in range(0,batch_size):\n",
    "            val.append((random.sample(userNames, 1)[0],random.sample(regionNames, 1)[0], int(time.time())))\n",
    "#         to_my_sql(val)\n",
    "        to_kafka(val)\n",
    "    time.sleep(batch_window)"
   ]
  },
  {
   "cell_type": "markdown",
   "id": "794db017",
   "metadata": {},
   "source": [
    "# COPY THIS NOTEBOOK TO CONTINUE INGESTING IN PARALLEL"
   ]
  },
  {
   "cell_type": "markdown",
   "id": "372b58fa",
   "metadata": {},
   "source": [
    "<img src=\"copy.png\" alt=\"5\" border=\"0\">"
   ]
  },
  {
   "cell_type": "code",
   "execution_count": null,
   "id": "66c87925",
   "metadata": {},
   "outputs": [],
   "source": [
    "import mysql.connector\n",
    "\n",
    "mydb = mysql.connector.connect(\n",
    "  host=\"mysql\",\n",
    "  user=\"root\",\n",
    "  password=\"pass1234\"\n",
    ")\n",
    "\n",
    "mycursor = mydb.cursor()\n",
    "mycursor.execute(\"USE stream\")"
   ]
  },
  {
   "cell_type": "code",
   "execution_count": null,
   "id": "7b22fd8f",
   "metadata": {},
   "outputs": [],
   "source": [
    "mycursor.execute(\"SELECT * FROM clicks LIMIT 10\")\n",
    "for x in mycursor:\n",
    "  print(x) "
   ]
  }
 ],
 "metadata": {
  "kernelspec": {
   "display_name": "Python 3",
   "language": "python",
   "name": "python3"
  },
  "language_info": {
   "codemirror_mode": {
    "name": "ipython",
    "version": 3
   },
   "file_extension": ".py",
   "mimetype": "text/x-python",
   "name": "python",
   "nbconvert_exporter": "python",
   "pygments_lexer": "ipython3",
   "version": "3.9.2"
  }
 },
 "nbformat": 4,
 "nbformat_minor": 5
}
