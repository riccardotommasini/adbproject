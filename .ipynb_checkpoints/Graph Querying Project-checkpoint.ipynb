{
 "cells": [
  {
   "cell_type": "markdown",
   "metadata": {},
   "source": [
    "# Neo4J vs MySQL"
   ]
  },
  {
   "cell_type": "markdown",
   "metadata": {},
   "source": [
    "## Project Description\n",
    "\n",
    "Graph databases are specialized data systems to query interconnected data. To this extent, they leverage optimised data structures and indexes that speed up the processing of highly complex queries.\n",
    "\n",
    "This project requires you to implement a family of path query using MySQL and evaluate the performance difference.\n",
    "\n",
    "The queries you have to implement investigate the FRIEND relationship with increasing number of hops\n",
    "\n",
    "For example, given the following graph, and assuming the transitivity of FRIEND and n.id <> m.id\n",
    "\n",
    "Alice -[FRIEND]-> Bob\n",
    "Bob -[FRIEND]-> Carl\n",
    "Carl -[FRIEND]-> Dave\n",
    "\n",
    "1. (n) -[FRIEND]-> (m) will return n=Alice,m=Bob;n=Bob,m=Carl;n=Carl,m=Dave\n",
    "\n",
    "2. (n) -[FRIEND*1..2]-> (m) will return what 1. returned, and n=Alice,m=Carl, n=Bob,m=Dave\n",
    "\n",
    "and so on...\n",
    "\n",
    "\n",
    "You can:\n",
    "\n",
    "- use code or SQL to achieve the query result\n",
    "- you can use/create any helper structure, table\n",
    "- if you use any index in mysql, justify their presence by measuring their impact"
   ]
  },
  {
   "cell_type": "markdown",
   "metadata": {},
   "source": [
    "# Generate the Data\n"
   ]
  },
  {
   "cell_type": "markdown",
   "metadata": {},
   "source": [
    "<img src=\"schema.png\" alt=\"5\" border=\"0\">"
   ]
  },
  {
   "cell_type": "markdown",
   "metadata": {},
   "source": [
    "Try different sizes 100,500,1000,10000"
   ]
  },
  {
   "cell_type": "code",
   "execution_count": null,
   "metadata": {},
   "outputs": [],
   "source": [
    "friendsNum = 100#500/1000"
   ]
  },
  {
   "cell_type": "code",
   "execution_count": null,
   "metadata": {},
   "outputs": [],
   "source": [
    "import random\n",
    "import sys\n",
    "import time\n",
    "\n",
    "num_people = int(friendsNum)\n",
    "num_friends = int(friendsNum/2)\n",
    "\n",
    "friendids = range(1,num_people+1)\n",
    "friends={}\n",
    "for i in friendids:\n",
    "    while 1:\n",
    "        sample = random.sample(friendids,num_friends)\n",
    "        if i not in sample:\n",
    "            break\n",
    "    friends[i]=sample\n",
    "    if i % 10000 == 0:\n",
    "        print(i)"
   ]
  },
  {
   "cell_type": "code",
   "execution_count": null,
   "metadata": {},
   "outputs": [],
   "source": [
    "fplot = {}\n",
    "for f,fs in friends.items():\n",
    "    fplot[f]=len(fs)"
   ]
  },
  {
   "cell_type": "code",
   "execution_count": null,
   "metadata": {},
   "outputs": [],
   "source": [
    "%matplotlib inline\n",
    "import matplotlib.pyplot as plt"
   ]
  },
  {
   "cell_type": "code",
   "execution_count": null,
   "metadata": {},
   "outputs": [],
   "source": [
    "lists = sorted(fplot.items()) # sorted by key, return a list of tuples\n",
    "\n",
    "x, y = zip(*lists) # unpack a list of pairs into two tuples\n",
    "\n",
    "plt.plot(x, y)\n",
    "plt.show()"
   ]
  },
  {
   "cell_type": "markdown",
   "metadata": {},
   "source": [
    "Example graph with 10 People."
   ]
  },
  {
   "cell_type": "markdown",
   "metadata": {},
   "source": [
    "<img src=\"graph.png\" alt=\"5\" border=\"0\">"
   ]
  },
  {
   "cell_type": "markdown",
   "metadata": {},
   "source": [
    "## Import Data to Neo4J"
   ]
  },
  {
   "cell_type": "markdown",
   "metadata": {},
   "source": [
    "\n",
    "### py2neo\n",
    "\n",
    "py2neo is one of Neo4j's Python drivers. It offers a fully-featured interface for interacting with your data in Neo4j. Install py2neo with pip install py2neo.\n"
   ]
  },
  {
   "cell_type": "code",
   "execution_count": 1,
   "metadata": {},
   "outputs": [
    {
     "name": "stdout",
     "output_type": "stream",
     "text": [
      "Collecting py2neo\n",
      "  Downloading py2neo-2021.1.1-py2.py3-none-any.whl (203 kB)\n",
      "\u001b[K     |████████████████████████████████| 203 kB 830 kB/s eta 0:00:01\n",
      "\u001b[?25hCollecting neotime~=1.7.4\n",
      "  Downloading neotime-1.7.4.tar.gz (17 kB)\n",
      "Requirement already satisfied: six>=1.15.0 in /opt/conda/lib/python3.9/site-packages (from py2neo) (1.15.0)\n",
      "Collecting docker\n",
      "  Downloading docker-5.0.0-py2.py3-none-any.whl (146 kB)\n",
      "\u001b[K     |████████████████████████████████| 146 kB 2.8 MB/s eta 0:00:01\n",
      "\u001b[?25hRequirement already satisfied: pygments>=2.0.0 in /opt/conda/lib/python3.9/site-packages (from py2neo) (2.9.0)\n",
      "Requirement already satisfied: cryptography in /opt/conda/lib/python3.9/site-packages (from py2neo) (3.4.7)\n",
      "Collecting pansi>=2020.7.3\n",
      "  Downloading pansi-2020.7.3-py2.py3-none-any.whl (10 kB)\n",
      "Requirement already satisfied: pytz in /opt/conda/lib/python3.9/site-packages (from py2neo) (2021.1)\n",
      "Requirement already satisfied: packaging in /opt/conda/lib/python3.9/site-packages (from py2neo) (20.9)\n",
      "Requirement already satisfied: urllib3 in /opt/conda/lib/python3.9/site-packages (from py2neo) (1.26.4)\n",
      "Requirement already satisfied: prompt-toolkit>=2.0.7 in /opt/conda/lib/python3.9/site-packages (from py2neo) (3.0.18)\n",
      "Collecting monotonic\n",
      "  Downloading monotonic-1.6-py2.py3-none-any.whl (8.2 kB)\n",
      "Collecting english\n",
      "  Downloading english-2020.7.0-py2.py3-none-any.whl (8.1 kB)\n",
      "Requirement already satisfied: certifi in /opt/conda/lib/python3.9/site-packages (from py2neo) (2020.12.5)\n",
      "Requirement already satisfied: wcwidth in /opt/conda/lib/python3.9/site-packages (from prompt-toolkit>=2.0.7->py2neo) (0.2.5)\n",
      "Requirement already satisfied: cffi>=1.12 in /opt/conda/lib/python3.9/site-packages (from cryptography->py2neo) (1.14.5)\n",
      "Requirement already satisfied: pycparser in /opt/conda/lib/python3.9/site-packages (from cffi>=1.12->cryptography->py2neo) (2.20)\n",
      "Requirement already satisfied: websocket-client>=0.32.0 in /opt/conda/lib/python3.9/site-packages (from docker->py2neo) (0.57.0)\n",
      "Requirement already satisfied: requests!=2.18.0,>=2.14.2 in /opt/conda/lib/python3.9/site-packages (from docker->py2neo) (2.25.1)\n",
      "Requirement already satisfied: chardet<5,>=3.0.2 in /opt/conda/lib/python3.9/site-packages (from requests!=2.18.0,>=2.14.2->docker->py2neo) (4.0.0)\n",
      "Requirement already satisfied: idna<3,>=2.5 in /opt/conda/lib/python3.9/site-packages (from requests!=2.18.0,>=2.14.2->docker->py2neo) (2.10)\n",
      "Requirement already satisfied: pyparsing>=2.0.2 in /opt/conda/lib/python3.9/site-packages (from packaging->py2neo) (2.4.7)\n",
      "Building wheels for collected packages: neotime\n",
      "  Building wheel for neotime (setup.py) ... \u001b[?25ldone\n",
      "\u001b[?25h  Created wheel for neotime: filename=neotime-1.7.4-py3-none-any.whl size=20541 sha256=721cb50a81243a84e6db71978fbb00b6d71a30a15832ebc2a503edee27298dd9\n",
      "  Stored in directory: /home/jovyan/.cache/pip/wheels/aa/47/bb/6e5c41d174666c8a7d870f7db23f120b1a70fa64b60154535f\n",
      "Successfully built neotime\n",
      "Installing collected packages: pansi, neotime, monotonic, english, docker, py2neo\n",
      "Successfully installed docker-5.0.0 english-2020.7.0 monotonic-1.6 neotime-1.7.4 pansi-2020.7.3 py2neo-2021.1.1\n"
     ]
    }
   ],
   "source": [
    "! pip install py2neo"
   ]
  },
  {
   "cell_type": "markdown",
   "metadata": {},
   "source": [
    "\n",
    "### Connect\n",
    "\n",
    "Connect to Neo4j with the Graph class.\n"
   ]
  },
  {
   "cell_type": "code",
   "execution_count": 2,
   "metadata": {},
   "outputs": [],
   "source": [
    "from py2neo import Node,Graph, Relationship, NodeMatcher\n",
    "try:\n",
    "    graph = Graph(\"bolt://neo:7687\")\n",
    "except:\n",
    "    print(\"Error Connection to Neo4j DB!!\")"
   ]
  },
  {
   "cell_type": "markdown",
   "metadata": {},
   "source": [
    "## create nodes and relationship"
   ]
  },
  {
   "cell_type": "code",
   "execution_count": null,
   "metadata": {},
   "outputs": [],
   "source": [
    "nodes = NodeMatcher(graph)\n",
    "for p,fs in friends.items():\n",
    "    pn = Node(\"Person\", id=p, name=\"Person\"+str(p))\n",
    "    graph.create(pn)"
   ]
  },
  {
   "cell_type": "code",
   "execution_count": null,
   "metadata": {},
   "outputs": [],
   "source": [
    "for p,fs in friends.items():\n",
    "    for f in fs:\n",
    "        pn = nodes.match(\"Person\", id=p, name=\"Person\"+str(p)).first()\n",
    "        fn = nodes.match(\"Person\", id=f, name=\"Person\"+str(f)).first()\n",
    "        r  = Relationship(pn, \"FRIEND\", fn)\n",
    "        graph.create(r)"
   ]
  },
  {
   "cell_type": "markdown",
   "metadata": {},
   "source": [
    "## RUN THIS QUERY 3-5 TIMES TO WARM UP THE CACHE"
   ]
  },
  {
   "cell_type": "code",
   "execution_count": null,
   "metadata": {},
   "outputs": [],
   "source": [
    "query = \"\"\" MATCH (n:Person)-[r]-> (m) RETURN n.id as n,m.id as m\"\"\"\n",
    "ns = []\n",
    "for node in graph.run(query):\n",
    "     ns.append(node)"
   ]
  },
  {
   "cell_type": "code",
   "execution_count": null,
   "metadata": {},
   "outputs": [],
   "source": [
    "ns"
   ]
  },
  {
   "cell_type": "markdown",
   "metadata": {},
   "source": [
    "## 1 HOP"
   ]
  },
  {
   "cell_type": "code",
   "execution_count": null,
   "metadata": {},
   "outputs": [],
   "source": [
    "start = time.time()\n",
    "query = \"\"\" MATCH (n:Person)-[r*1..2]-> (m) WHERE n.id <> m.id RETURN n.id as n,m.id as m\"\"\"\n",
    "ns = []\n",
    "for node in graph.run(query):\n",
    "     ns.append(node)\n",
    "print(time.time()-start)"
   ]
  },
  {
   "cell_type": "code",
   "execution_count": null,
   "metadata": {},
   "outputs": [],
   "source": [
    "ns"
   ]
  },
  {
   "cell_type": "markdown",
   "metadata": {},
   "source": [
    "## 2 HOPS"
   ]
  },
  {
   "cell_type": "code",
   "execution_count": null,
   "metadata": {},
   "outputs": [],
   "source": [
    "start = time.time()\n",
    "query = \"\"\" MATCH (n:Person)-[r*1..3]-> (m) WHERE n.id <> RETURN n.id as n,m.id as m\"\"\"\n",
    "ns = []\n",
    "for node in graph.run(query):\n",
    "     ns.append(node)\n",
    "print(time.time()-start)"
   ]
  },
  {
   "cell_type": "code",
   "execution_count": null,
   "metadata": {},
   "outputs": [],
   "source": [
    "ns"
   ]
  },
  {
   "cell_type": "markdown",
   "metadata": {},
   "source": [
    "## 5 HOPS"
   ]
  },
  {
   "cell_type": "code",
   "execution_count": null,
   "metadata": {},
   "outputs": [],
   "source": [
    "start = time.time()\n",
    "query = \"\"\" MATCH (n:Person)-[r*1..5]-> (m) WHERE n.id <> m.id RETURN n.id as n,m.id as m\"\"\"\n",
    "ns = []\n",
    "for node in graph.run(query):\n",
    "     ns.append(node)\n",
    "print(time.time()-start)"
   ]
  },
  {
   "cell_type": "code",
   "execution_count": null,
   "metadata": {},
   "outputs": [],
   "source": [
    "ns"
   ]
  },
  {
   "cell_type": "markdown",
   "metadata": {},
   "source": [
    "## N HOPS"
   ]
  },
  {
   "cell_type": "code",
   "execution_count": null,
   "metadata": {},
   "outputs": [],
   "source": [
    "start = time.time()\n",
    "query = \"\"\" MATCH (n:Person)-[r*]-> (m) WHERE n.id <> m.id RETURN n.id as n,m.id as m\"\"\"\n",
    "ns = []\n",
    "for node in graph.run(query):\n",
    "     ns.append(node)\n",
    "print(time.time()-start)"
   ]
  },
  {
   "cell_type": "code",
   "execution_count": null,
   "metadata": {},
   "outputs": [],
   "source": [
    "ns"
   ]
  },
  {
   "cell_type": "markdown",
   "metadata": {},
   "source": [
    "## Import Data to MySQL"
   ]
  },
  {
   "cell_type": "markdown",
   "metadata": {},
   "source": [
    "## mysql-connector"
   ]
  },
  {
   "cell_type": "code",
   "execution_count": 3,
   "metadata": {},
   "outputs": [
    {
     "name": "stdout",
     "output_type": "stream",
     "text": [
      "Collecting mysql-connector-python\n",
      "  Downloading mysql_connector_python-8.0.25-cp39-cp39-manylinux1_x86_64.whl (25.4 MB)\n",
      "\u001b[K     |████████████████████████████████| 25.4 MB 11.3 MB/s eta 0:00:01   |███                             | 2.4 MB 2.1 MB/s eta 0:00:11\n",
      "\u001b[?25hRequirement already satisfied: protobuf>=3.0.0 in /opt/conda/lib/python3.9/site-packages (from mysql-connector-python) (3.15.8)\n",
      "Requirement already satisfied: six>=1.9 in /opt/conda/lib/python3.9/site-packages (from protobuf>=3.0.0->mysql-connector-python) (1.15.0)\n",
      "Installing collected packages: mysql-connector-python\n",
      "Successfully installed mysql-connector-python-8.0.25\n"
     ]
    }
   ],
   "source": [
    "! pip install mysql-connector-python "
   ]
  },
  {
   "cell_type": "markdown",
   "metadata": {},
   "source": [
    "### Connect\n",
    "\n",
    "Connect to MySQL and configure the database\n",
    "\n",
    "\n"
   ]
  },
  {
   "cell_type": "code",
   "execution_count": 4,
   "metadata": {},
   "outputs": [],
   "source": [
    "import mysql.connector\n",
    "\n",
    "mydb = mysql.connector.connect(\n",
    "  host=\"mysql\",\n",
    "  user=\"root\",\n",
    "  password=\"pass1234\")\n",
    "\n",
    "\n",
    "mycursor = mydb.cursor()"
   ]
  },
  {
   "cell_type": "code",
   "execution_count": null,
   "metadata": {},
   "outputs": [],
   "source": [
    "mycursor.execute(\"CREATE DATABASE graph\")"
   ]
  },
  {
   "cell_type": "code",
   "execution_count": null,
   "metadata": {},
   "outputs": [],
   "source": [
    "mycursor.execute(\"SHOW DATABASES\")\n",
    "\n",
    "for x in mycursor:\n",
    "  print(x) "
   ]
  },
  {
   "cell_type": "code",
   "execution_count": null,
   "metadata": {},
   "outputs": [],
   "source": [
    "mycursor.execute(\"USE graph\")"
   ]
  },
  {
   "cell_type": "code",
   "execution_count": null,
   "metadata": {},
   "outputs": [],
   "source": [
    "mycursor.execute(\"CREATE TABLE friends (person1 VARCHAR(255), person2 VARCHAR(255))\")\n",
    "\n",
    "for x in mycursor:\n",
    "  print(x) "
   ]
  },
  {
   "cell_type": "code",
   "execution_count": null,
   "metadata": {},
   "outputs": [],
   "source": [
    "mycursor.execute(\"SHOW TABLES\")\n",
    "\n",
    "for x in mycursor:\n",
    "  print(x) "
   ]
  },
  {
   "cell_type": "code",
   "execution_count": null,
   "metadata": {},
   "outputs": [],
   "source": [
    "sql = \"INSERT INTO friends (person1, person2) VALUES (%s, %s)\"\n",
    "val = []\n",
    "for p,fs in friends.items():\n",
    "    for f in fs:\n",
    "        val.append((\"Person\"+str(p), \"Person\"+str(f)))\n",
    "\n",
    "mycursor.executemany(sql, val)\n",
    "\n",
    "mydb.commit()\n",
    "\n",
    "print(mycursor.rowcount, \"record inserted.\")"
   ]
  },
  {
   "cell_type": "markdown",
   "metadata": {},
   "source": [
    "## RUN THIS QUERY 5 TIMES TO WARM UP THE CACHE"
   ]
  },
  {
   "cell_type": "code",
   "execution_count": null,
   "metadata": {},
   "outputs": [],
   "source": [
    "mycursor.execute(\"SELECT * FROM friends\")\n",
    "for x in mycursor:\n",
    "  print(x) "
   ]
  },
  {
   "cell_type": "markdown",
   "metadata": {},
   "source": [
    "# Task"
   ]
  },
  {
   "cell_type": "code",
   "execution_count": null,
   "metadata": {},
   "outputs": [],
   "source": [
    "# Write here you code"
   ]
  },
  {
   "cell_type": "markdown",
   "metadata": {},
   "source": []
  },
  {
   "cell_type": "markdown",
   "metadata": {},
   "source": [
    "## Cleanup"
   ]
  },
  {
   "cell_type": "markdown",
   "metadata": {},
   "source": [
    "In case you need to clean up the databases."
   ]
  },
  {
   "cell_type": "code",
   "execution_count": null,
   "metadata": {},
   "outputs": [],
   "source": [
    "graph.delete_all()"
   ]
  },
  {
   "cell_type": "code",
   "execution_count": null,
   "metadata": {},
   "outputs": [],
   "source": [
    "mycursor.execute(\"DROP TABLE friends\")"
   ]
  },
  {
   "cell_type": "code",
   "execution_count": null,
   "metadata": {},
   "outputs": [],
   "source": []
  }
 ],
 "metadata": {
  "kernelspec": {
   "display_name": "Python 3",
   "language": "python",
   "name": "python3"
  },
  "language_info": {
   "codemirror_mode": {
    "name": "ipython",
    "version": 3
   },
   "file_extension": ".py",
   "mimetype": "text/x-python",
   "name": "python",
   "nbconvert_exporter": "python",
   "pygments_lexer": "ipython3",
   "version": "3.9.2"
  }
 },
 "nbformat": 4,
 "nbformat_minor": 2
}
